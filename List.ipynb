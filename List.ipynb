{
 "cells": [
  {
   "cell_type": "markdown",
   "id": "bbd26e26",
   "metadata": {},
   "source": [
    "List:\n",
    "   \n",
    "    "
   ]
  },
  {
   "cell_type": "code",
   "execution_count": 4,
   "id": "bcd2caf3",
   "metadata": {},
   "outputs": [],
   "source": [
    "L=[10,20,30,40,30,50]\n"
   ]
  },
  {
   "cell_type": "code",
   "execution_count": 5,
   "id": "f8473902",
   "metadata": {},
   "outputs": [
    {
     "data": {
      "text/plain": [
       "[10, 20, 30, 40, 30, 50]"
      ]
     },
     "execution_count": 5,
     "metadata": {},
     "output_type": "execute_result"
    }
   ],
   "source": [
    "L"
   ]
  },
  {
   "cell_type": "markdown",
   "id": "689a0ccf",
   "metadata": {},
   "source": [
    "type() function is used to get type of an object."
   ]
  },
  {
   "cell_type": "code",
   "execution_count": 6,
   "id": "f809b69e",
   "metadata": {},
   "outputs": [
    {
     "name": "stdout",
     "output_type": "stream",
     "text": [
      "<class 'list'>\n"
     ]
    }
   ],
   "source": [
    "try:\n",
    "    def type_of_variable(a):\n",
    "        \"this function is used to check datatype of variable \"\n",
    "        try:\n",
    "            print(type(a))\n",
    "        except Exception as e:\n",
    "            print(e)\n",
    "    type_of_variable(L)\n",
    "except Exception as d:\n",
    "    print(d)"
   ]
  },
  {
   "cell_type": "markdown",
   "id": "f2e0816c",
   "metadata": {},
   "source": [
    "min() function is used to get minimum value."
   ]
  },
  {
   "cell_type": "code",
   "execution_count": 8,
   "id": "a7676ac5",
   "metadata": {},
   "outputs": [
    {
     "name": "stdout",
     "output_type": "stream",
     "text": [
      "10\n"
     ]
    }
   ],
   "source": [
    "try:\n",
    "    def min_value(a):\n",
    "        \"this function is used to get minimum value \"\n",
    "        try:\n",
    "            print(min(a))\n",
    "        except Exception as e:\n",
    "            print(e)\n",
    "    min_value(L)\n",
    "except Exception as d:\n",
    "    print(d)"
   ]
  },
  {
   "cell_type": "markdown",
   "id": "cbb54e17",
   "metadata": {},
   "source": [
    "max() function is used to get maximum value."
   ]
  },
  {
   "cell_type": "code",
   "execution_count": 7,
   "id": "5925c790",
   "metadata": {},
   "outputs": [
    {
     "name": "stdout",
     "output_type": "stream",
     "text": [
      "50\n"
     ]
    }
   ],
   "source": [
    "try:\n",
    "    def max_value(a):\n",
    "        \"this function is used to get maximum value \"\n",
    "        try:\n",
    "            print(max(a))\n",
    "        except Exception as e:\n",
    "            print(e)\n",
    "    max_value(L)\n",
    "except Exception as d:\n",
    "    print(d)"
   ]
  },
  {
   "cell_type": "markdown",
   "id": "1fb523a2",
   "metadata": {},
   "source": [
    "insert() function is used to insert value at given index."
   ]
  },
  {
   "cell_type": "code",
   "execution_count": null,
   "id": "3f647291",
   "metadata": {},
   "outputs": [],
   "source": []
  },
  {
   "cell_type": "code",
   "execution_count": 12,
   "id": "d5310235",
   "metadata": {},
   "outputs": [
    {
     "data": {
      "text/plain": [
       "[1, 2, 3, 4, 5]"
      ]
     },
     "execution_count": 12,
     "metadata": {},
     "output_type": "execute_result"
    }
   ],
   "source": [
    "list=[1,2,3,4,5]\n",
    "list"
   ]
  },
  {
   "cell_type": "code",
   "execution_count": 13,
   "id": "c2f69914",
   "metadata": {},
   "outputs": [
    {
     "name": "stdout",
     "output_type": "stream",
     "text": [
      "[1, 2, 3, 70, 4, 5]\n"
     ]
    }
   ],
   "source": [
    "try:\n",
    "    def insert_value(list=list,index=int,value=int):\n",
    "        \"this function is used to insert value at given index\"\n",
    "        try:\n",
    "            list.insert(index,value)\n",
    "            print((list))\n",
    "        except Exception as e:\n",
    "            print(e)\n",
    "    insert_value(list,3,70)\n",
    "except Exception as d:\n",
    "    print(d)"
   ]
  },
  {
   "cell_type": "markdown",
   "id": "3a8bfbe4",
   "metadata": {},
   "source": [
    "index() function is used to find index of an element."
   ]
  },
  {
   "cell_type": "code",
   "execution_count": 13,
   "id": "de7e505e",
   "metadata": {},
   "outputs": [
    {
     "name": "stdout",
     "output_type": "stream",
     "text": [
      "4\n"
     ]
    }
   ],
   "source": [
    "try:\n",
    "    def index_value():\n",
    "        \"this function is used to find index of an element\"\n",
    "        try:\n",
    "            print(L.index(40))\n",
    "        except Exception as e:\n",
    "            print(e)\n",
    "    index_value()\n",
    "except Exception as d:\n",
    "    print(d)"
   ]
  },
  {
   "cell_type": "markdown",
   "id": "8409fc43",
   "metadata": {},
   "source": [
    "append() function is used to add element to the end of list."
   ]
  },
  {
   "cell_type": "code",
   "execution_count": 14,
   "id": "0ebbb979",
   "metadata": {},
   "outputs": [
    {
     "name": "stdout",
     "output_type": "stream",
     "text": [
      "[1, 2, 3, 70, 4, 5, 100]\n"
     ]
    }
   ],
   "source": [
    "try:\n",
    "    def append_value(list,value):\n",
    "        \"this function is used to add element to the end of list \"\n",
    "        try:\n",
    "            list.append(value)\n",
    "            print((list))\n",
    "        except Exception as e:\n",
    "            print(e)\n",
    "    append_value(list,100)\n",
    "except Exception as d:\n",
    "    print(d)"
   ]
  },
  {
   "cell_type": "markdown",
   "id": "eea686a6",
   "metadata": {},
   "source": [
    "extend() function is used to add one list to the end of current list."
   ]
  },
  {
   "cell_type": "code",
   "execution_count": 29,
   "id": "8eb3bd9a",
   "metadata": {},
   "outputs": [
    {
     "data": {
      "text/plain": [
       "[15, 16, 17, 18, 19]"
      ]
     },
     "execution_count": 29,
     "metadata": {},
     "output_type": "execute_result"
    }
   ],
   "source": [
    "l=[15,16,17,18,19]\n",
    "l"
   ]
  },
  {
   "cell_type": "code",
   "execution_count": 37,
   "id": "29b38d95",
   "metadata": {},
   "outputs": [
    {
     "data": {
      "text/plain": [
       "[21, 22, 23, 24, 25]"
      ]
     },
     "execution_count": 37,
     "metadata": {},
     "output_type": "execute_result"
    }
   ],
   "source": [
    "l1=[21,22,23,24,25]\n",
    "l1"
   ]
  },
  {
   "cell_type": "code",
   "execution_count": 22,
   "id": "2cd5c58c",
   "metadata": {},
   "outputs": [
    {
     "name": "stdout",
     "output_type": "stream",
     "text": [
      "[15, 16, 17, 18, 19, 21, 22, 23, 24, 25]\n"
     ]
    }
   ],
   "source": [
    "try:\n",
    "    def extend_list(l,l1):\n",
    "        \"this function is used to add one list to the end of current list \"\n",
    "        try:\n",
    "            l.extend(l1)\n",
    "            print((l))\n",
    "        except Exception as e:\n",
    "            print(e)\n",
    "    extend_list(l,l1)\n",
    "except Exception as d:\n",
    "    print(d)"
   ]
  },
  {
   "cell_type": "markdown",
   "id": "c865aaaf",
   "metadata": {},
   "source": [
    "remove() is used to remove particular element in list."
   ]
  },
  {
   "cell_type": "code",
   "execution_count": 38,
   "id": "f82e59ea",
   "metadata": {},
   "outputs": [
    {
     "name": "stdout",
     "output_type": "stream",
     "text": [
      "[22, 23, 24, 25]\n"
     ]
    }
   ],
   "source": [
    "try:\n",
    "    def remove_element(l1,value):\n",
    "        \"this function is used to remove particular element of list \"\n",
    "        try:\n",
    "            l1.remove(value)\n",
    "            print(l1)\n",
    "        except Exception as e:\n",
    "            print(e)\n",
    "    remove_element(l1,21)\n",
    "except Exception as d:\n",
    "    print(d)"
   ]
  },
  {
   "cell_type": "markdown",
   "id": "02e8c28e",
   "metadata": {},
   "source": [
    "pop() is used to remove last element of list."
   ]
  },
  {
   "cell_type": "code",
   "execution_count": 43,
   "id": "7ba991ff",
   "metadata": {},
   "outputs": [
    {
     "name": "stdout",
     "output_type": "stream",
     "text": [
      "[15, 16, 17]\n"
     ]
    }
   ],
   "source": [
    "try:\n",
    "    def pop_element(l):\n",
    "        \"this function is used to remove last element of list \"\n",
    "        try:\n",
    "            l.pop()\n",
    "            print(l)\n",
    "        except Exception as e:\n",
    "            print(e)\n",
    "    pop_element(l)\n",
    "except Exception as d:\n",
    "    print(d)"
   ]
  },
  {
   "cell_type": "code",
   "execution_count": null,
   "id": "905d84f2",
   "metadata": {},
   "outputs": [],
   "source": []
  },
  {
   "cell_type": "code",
   "execution_count": null,
   "id": "95bab017",
   "metadata": {},
   "outputs": [],
   "source": []
  }
 ],
 "metadata": {
  "kernelspec": {
   "display_name": "Python 3 (ipykernel)",
   "language": "python",
   "name": "python3"
  },
  "language_info": {
   "codemirror_mode": {
    "name": "ipython",
    "version": 3
   },
   "file_extension": ".py",
   "mimetype": "text/x-python",
   "name": "python",
   "nbconvert_exporter": "python",
   "pygments_lexer": "ipython3",
   "version": "3.9.12"
  },
  "vscode": {
   "interpreter": {
    "hash": "631af202ec7c40e141c49d63cac6c8cb664469fed6e4d5ddc6436b49edc60500"
   }
  }
 },
 "nbformat": 4,
 "nbformat_minor": 5
}
